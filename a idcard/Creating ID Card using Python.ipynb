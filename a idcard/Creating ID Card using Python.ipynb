{
 "cells": [
  {
   "cell_type": "code",
   "execution_count": 1,
   "id": "93da6a74-9f9a-48f2-9717-db710dc30d9e",
   "metadata": {},
   "outputs": [],
   "source": [
    "from PIL import Image, ImageDraw, ImageFont\n"
   ]
  },
  {
   "cell_type": "code",
   "execution_count": 2,
   "id": "68ef0da8-dc02-46b7-bd35-8674d6d4c94f",
   "metadata": {},
   "outputs": [],
   "source": [
    "def create_id_card(name, role, company, id_number, photo_path, output_path):\n",
    "    # Create a new image with a white background\n",
    "    card = Image.new('RGB', (600, 400), 'white')\n",
    "    draw = ImageDraw.Draw(card)\n",
    "    \n",
    "    # Load a font\n",
    "    font = ImageFont.truetype(\"arialbd.ttf\", 24)\n",
    "    \n",
    "    # Draw text on the card\n",
    "    draw.text((20, 20), company, font=ImageFont.truetype(\"arialbd.ttf\", 30), fill='black')\n",
    "    draw.text((200, 70), f\"Name: {name}\", font=font, fill='black')\n",
    "    draw.text((200, 110), f\"Role: {role}\", font=font, fill='black')\n",
    "    draw.text((200, 150), f\"ID: {id_number}\", font=font, fill='black')\n",
    "    \n",
    "    # Open and resize the photo\n",
    "    photo = Image.open(photo_path).resize((150, 150))\n",
    "    \n",
    "    # Paste the photo onto the card\n",
    "    card.paste(photo, (20, 60))\n",
    "    \n",
    "    # Save the card to the output path\n",
    "    card.save(output_path)\n"
   ]
  },
  {
   "cell_type": "code",
   "execution_count": 3,
   "id": "621f990a-623b-41ed-b315-4e05f5dccb43",
   "metadata": {},
   "outputs": [],
   "source": [
    "create_id_card(\"Sreethar\", \"AI Engineer\", \"SG Google\", \"1479\", \"C:\\\\Users\\\\sreet\\\\OneDrive\\\\Documents\\\\a idcard\\\\New folder\\\\Passport.jpg\", \"output.png\")"
   ]
  },
  {
   "cell_type": "code",
   "execution_count": null,
   "id": "f2d4a3bb-8366-4a79-9b6f-c237c06f59db",
   "metadata": {},
   "outputs": [],
   "source": []
  }
 ],
 "metadata": {
  "kernelspec": {
   "display_name": "Python 3 (ipykernel)",
   "language": "python",
   "name": "python3"
  },
  "language_info": {
   "codemirror_mode": {
    "name": "ipython",
    "version": 3
   },
   "file_extension": ".py",
   "mimetype": "text/x-python",
   "name": "python",
   "nbconvert_exporter": "python",
   "pygments_lexer": "ipython3",
   "version": "3.10.0"
  }
 },
 "nbformat": 4,
 "nbformat_minor": 5
}
