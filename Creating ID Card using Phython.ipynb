{
 "cells": [
  {
   "cell_type": "code",
   "execution_count": 1,
   "id": "e27df26e-6d19-4425-9a19-39b5afa389b4",
   "metadata": {},
   "outputs": [],
   "source": [
    "from PIL import Image, ImageDraw, ImageFont"
   ]
  },
  {
   "cell_type": "code",
   "execution_count": 2,
   "id": "c0eef9ee-63c3-4e09-b243-73645bce98c9",
   "metadata": {},
   "outputs": [],
   "source": [
    "def create_id_card(name,role,company,id_number,photo_path,output_path):\n",
    "    card = Image.new('RGB',(600,400), 'white')\n",
    "    draw = ImageDraw.Draw(\"card\")\n",
    "    font = ImageFont.truetype(\"arialbd.ttf\",24)\n",
    "\n",
    "    draw.text((20, 20), company, font=ImageFont.truetype(\"arialbd.ttf\", 30), fill='black')\n",
    "    draw.text((200, 70), f\"Name: {name}\", font=font, fill='black')\n",
    "    draw.text((200, 110), f\"Role: {role}\", font=font, fill='black')\n",
    "    draw.text((200, 150), f\"ID: {id_number}\", font=font, fill='black')"
   ]
  },
  {
   "cell_type": "code",
   "execution_count": 3,
   "id": "7c89b1da-3be3-4a33-b6dd-a8ef7d529601",
   "metadata": {},
   "outputs": [
    {
     "ename": "NameError",
     "evalue": "name 'card' is not defined",
     "output_type": "error",
     "traceback": [
      "\u001b[1;31m---------------------------------------------------------------------------\u001b[0m",
      "\u001b[1;31mNameError\u001b[0m                                 Traceback (most recent call last)",
      "Cell \u001b[1;32mIn[3], line 2\u001b[0m\n\u001b[0;32m      1\u001b[0m photo \u001b[38;5;241m=\u001b[39m Image\u001b[38;5;241m.\u001b[39mopen(\u001b[38;5;124m\"\u001b[39m\u001b[38;5;124mC:\u001b[39m\u001b[38;5;130;01m\\\\\u001b[39;00m\u001b[38;5;124mUsers\u001b[39m\u001b[38;5;130;01m\\\\\u001b[39;00m\u001b[38;5;124msreet\u001b[39m\u001b[38;5;130;01m\\\\\u001b[39;00m\u001b[38;5;124mOneDrive\u001b[39m\u001b[38;5;130;01m\\\\\u001b[39;00m\u001b[38;5;124mDocuments\u001b[39m\u001b[38;5;130;01m\\\\\u001b[39;00m\u001b[38;5;124ma idcard\u001b[39m\u001b[38;5;130;01m\\\\\u001b[39;00m\u001b[38;5;124mNew folder\u001b[39m\u001b[38;5;130;01m\\\\\u001b[39;00m\u001b[38;5;124mProfessional Passport.png\u001b[39m\u001b[38;5;124m\"\u001b[39m)\u001b[38;5;241m.\u001b[39mresize((\u001b[38;5;241m150\u001b[39m, \u001b[38;5;241m150\u001b[39m))\n\u001b[1;32m----> 2\u001b[0m \u001b[43mcard\u001b[49m\u001b[38;5;241m.\u001b[39mpaste(photo, (\u001b[38;5;241m20\u001b[39m, \u001b[38;5;241m60\u001b[39m))\n\u001b[0;32m      4\u001b[0m card\u001b[38;5;241m.\u001b[39msave(output_path)\n",
      "\u001b[1;31mNameError\u001b[0m: name 'card' is not defined"
     ]
    }
   ],
   "source": [
    "photo = Image.open(\"C:\\\\Users\\\\sreet\\\\OneDrive\\\\Documents\\\\a idcard\\\\New folder\\\\Professional Passport.png\").resize((150, 150))\n",
    "card.paste(photo, (20, 60))\n",
    "\n",
    "card.save(output_path)"
   ]
  },
  {
   "cell_type": "code",
   "execution_count": null,
   "id": "91cffbc0-7e5f-488c-8a82-86852f7e0479",
   "metadata": {},
   "outputs": [],
   "source": []
  }
 ],
 "metadata": {
  "kernelspec": {
   "display_name": "Python 3 (ipykernel)",
   "language": "python",
   "name": "python3"
  },
  "language_info": {
   "codemirror_mode": {
    "name": "ipython",
    "version": 3
   },
   "file_extension": ".py",
   "mimetype": "text/x-python",
   "name": "python",
   "nbconvert_exporter": "python",
   "pygments_lexer": "ipython3",
   "version": "3.10.0"
  }
 },
 "nbformat": 4,
 "nbformat_minor": 5
}
